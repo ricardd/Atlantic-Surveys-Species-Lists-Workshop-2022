{
 "cells": [
  {
   "cell_type": "markdown",
   "source": [
    "Let's start with an empty df based on the template\n",
    "\n",
    "Goals:\n",
    "\n",
    "- get a list of species ranked by how often it has been encountered across all three regions.\n",
    "    - How many species are in this list\n",
    "- dict, indexed by aphia_id (at first?) for all species with aphia id.\n",
    "    - for each sub dict, there should be a key called `regional_codes` which holds a dict for region to regional code conversion\n",
    "    - as this dict is being build, the eng and french common names should be added opportunistically\n",
    "- for all species without aphia id, there should be a new column stating from which region this comes from"
   ],
   "metadata": {
    "collapsed": false
   }
  },
  {
   "cell_type": "code",
   "execution_count": 74,
   "outputs": [],
   "source": [
    "\n",
    "import pandas as pd\n",
    "\n",
    "master_species_dict = dict()\n"
   ],
   "metadata": {
    "collapsed": false
   }
  },
  {
   "cell_type": "markdown",
   "source": [
    "Cycle through the regional files and build up the rows of the species list"
   ],
   "metadata": {
    "collapsed": false
   }
  },
  {
   "cell_type": "code",
   "execution_count": 119,
   "outputs": [],
   "source": [
    "\n",
    "regions_files = [\n",
    "    \"GULF_RV_OCC_20221212.csv\",\n",
    "    \"Maritimes_20221117.csv\",\n",
    "    \"Maritimes_GEORGES_20221201.csv\",\n",
    "    \"Quebec_20221204.csv\",\n",
    "]\n",
    "\n",
    "for file in regions_files:\n",
    "    temp_species_list_df = pd.read_csv(file)\n",
    "\n",
    "    for index, row in temp_species_list_df.iterrows():\n",
    "        if pd.isnull(row[\"aphia_id\"]) or str(row[\"aphia_id\"]).strip() == \"\":\n",
    "            row[\"aphia_id\"] = None\n",
    "\n",
    "        if row[\"aphia_id\"]:\n",
    "            row[\"aphia_id\"] = int(row[\"aphia_id\"])\n",
    "\n",
    "\n",
    "\n",
    "\n",
    "        # is there a matching aphia ID in the main list?\n",
    "        match = row[\"aphia_id\"] in species_list_df[\"aphia_id\"].to_list()\n",
    "        if not row[\"aphia_id\"] or not match:\n",
    "            species_list_df = pd.concat([species_list_df, row.to_frame().T], ignore_index=True)\n",
    "\n",
    "        # but if there is an aphia id, we can sum the counts\n",
    "\n",
    "        if row[\"aphia_id\"] and match:\n",
    "            master_row = species_list_df.loc[species_list_df[\"aphia_id\"] == row[\"aphia_id\"]].iloc[0]\n",
    "            new_count = master_row[\"count_of_occurrences_in_db\"] + row[\"count_of_occurrences_in_db\"]\n",
    "            master_row[\"count_of_occurrences_in_db\"] = new_count\n",
    "        #     species_list_df.loc[species_list_df[\"aphia_id\"].isin(row[\"aphia_id\"])].loc[0][\"count_of_occurrences_in_db\"] = new_count\n",
    "# species_list_df.sort_values(by=[\"count_of_occurrences_in_db\"], ascending=False)\n",
    "\n"
   ],
   "metadata": {
    "collapsed": false
   }
  },
  {
   "cell_type": "code",
   "execution_count": 76,
   "outputs": [
    {
     "data": {
      "text/plain": "    regional_code               common_name_en          common_name_fr  \\\n0              40              American plaice         Plie canadienne   \n1            2100         Decapod unidentified                     NaN   \n2            2526                    Snow crab        Crabe des neiges   \n3              10                 Atlantic cod           Morue franche   \n4            6400      Sea urchin unidentified                     NaN   \n..            ...                          ...                     ...   \n898           702  Wolffishes (Anarhichas sp.)  Loups (Anarhichas sp.)   \n899           729               Arctic Eelpout         Lycode arctique   \n554           463              EELS,SNIPE (NS)                     NaN   \n451          7725      Seaworm (L. filicornis)                     NaN   \n467          8626           Aplysilla sulfurea      Aplysilla sulfurea   \n\n                  scientific_name aphia_id count_of_occurrences_in_db  \n0    Hippoglossoides platessoides   127137                       3017  \n1                   Decapoda (o.)     1130                       2816  \n2             Chionoecetes opilio   107315                       2651  \n3                    Gadus morhua   126436                       2494  \n4          Strongylocentrotus sp.   123390                       2311  \n..                            ...      ...                        ...  \n898                Anarhichas sp.   125912                          1  \n899           Lycodes reticulatus   127112                          1  \n554                 NEMICHTHYIDAE   125432                          1  \n451         Laetmonice filicornis   129844                          1  \n467            Aplysilla sulfurea   236120                          1  \n\n[1077 rows x 6 columns]",
      "text/html": "<div>\n<style scoped>\n    .dataframe tbody tr th:only-of-type {\n        vertical-align: middle;\n    }\n\n    .dataframe tbody tr th {\n        vertical-align: top;\n    }\n\n    .dataframe thead th {\n        text-align: right;\n    }\n</style>\n<table border=\"1\" class=\"dataframe\">\n  <thead>\n    <tr style=\"text-align: right;\">\n      <th></th>\n      <th>regional_code</th>\n      <th>common_name_en</th>\n      <th>common_name_fr</th>\n      <th>scientific_name</th>\n      <th>aphia_id</th>\n      <th>count_of_occurrences_in_db</th>\n    </tr>\n  </thead>\n  <tbody>\n    <tr>\n      <th>0</th>\n      <td>40</td>\n      <td>American plaice</td>\n      <td>Plie canadienne</td>\n      <td>Hippoglossoides platessoides</td>\n      <td>127137</td>\n      <td>3017</td>\n    </tr>\n    <tr>\n      <th>1</th>\n      <td>2100</td>\n      <td>Decapod unidentified</td>\n      <td>NaN</td>\n      <td>Decapoda (o.)</td>\n      <td>1130</td>\n      <td>2816</td>\n    </tr>\n    <tr>\n      <th>2</th>\n      <td>2526</td>\n      <td>Snow crab</td>\n      <td>Crabe des neiges</td>\n      <td>Chionoecetes opilio</td>\n      <td>107315</td>\n      <td>2651</td>\n    </tr>\n    <tr>\n      <th>3</th>\n      <td>10</td>\n      <td>Atlantic cod</td>\n      <td>Morue franche</td>\n      <td>Gadus morhua</td>\n      <td>126436</td>\n      <td>2494</td>\n    </tr>\n    <tr>\n      <th>4</th>\n      <td>6400</td>\n      <td>Sea urchin unidentified</td>\n      <td>NaN</td>\n      <td>Strongylocentrotus sp.</td>\n      <td>123390</td>\n      <td>2311</td>\n    </tr>\n    <tr>\n      <th>...</th>\n      <td>...</td>\n      <td>...</td>\n      <td>...</td>\n      <td>...</td>\n      <td>...</td>\n      <td>...</td>\n    </tr>\n    <tr>\n      <th>898</th>\n      <td>702</td>\n      <td>Wolffishes (Anarhichas sp.)</td>\n      <td>Loups (Anarhichas sp.)</td>\n      <td>Anarhichas sp.</td>\n      <td>125912</td>\n      <td>1</td>\n    </tr>\n    <tr>\n      <th>899</th>\n      <td>729</td>\n      <td>Arctic Eelpout</td>\n      <td>Lycode arctique</td>\n      <td>Lycodes reticulatus</td>\n      <td>127112</td>\n      <td>1</td>\n    </tr>\n    <tr>\n      <th>554</th>\n      <td>463</td>\n      <td>EELS,SNIPE (NS)</td>\n      <td>NaN</td>\n      <td>NEMICHTHYIDAE</td>\n      <td>125432</td>\n      <td>1</td>\n    </tr>\n    <tr>\n      <th>451</th>\n      <td>7725</td>\n      <td>Seaworm (L. filicornis)</td>\n      <td>NaN</td>\n      <td>Laetmonice filicornis</td>\n      <td>129844</td>\n      <td>1</td>\n    </tr>\n    <tr>\n      <th>467</th>\n      <td>8626</td>\n      <td>Aplysilla sulfurea</td>\n      <td>Aplysilla sulfurea</td>\n      <td>Aplysilla sulfurea</td>\n      <td>236120</td>\n      <td>1</td>\n    </tr>\n  </tbody>\n</table>\n<p>1077 rows × 6 columns</p>\n</div>"
     },
     "execution_count": 76,
     "metadata": {},
     "output_type": "execute_result"
    }
   ],
   "source": [],
   "metadata": {
    "collapsed": false
   }
  }
 ],
 "metadata": {
  "kernelspec": {
   "display_name": "Python 3 (ipykernel)",
   "language": "python",
   "name": "python3"
  },
  "language_info": {
   "codemirror_mode": {
    "name": "ipython",
    "version": 3
   },
   "file_extension": ".py",
   "mimetype": "text/x-python",
   "name": "python",
   "nbconvert_exporter": "python",
   "pygments_lexer": "ipython3",
   "version": "3.9.0"
  }
 },
 "nbformat": 4,
 "nbformat_minor": 1
}
